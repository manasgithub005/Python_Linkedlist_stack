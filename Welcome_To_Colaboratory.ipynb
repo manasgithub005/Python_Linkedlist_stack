{
  "cells": [
    {
      "cell_type": "code",
      "source": [],
      "metadata": {
        "id": "WiB___HGzTCl"
      },
      "execution_count": null,
      "outputs": []
    },
    {
      "cell_type": "code",
      "source": [
        "from google.colab import drive\n",
        "drive.mount('/content/drive')"
      ],
      "metadata": {
        "id": "UMjOK0gZzYwZ",
        "outputId": "eeee092a-5e4b-4c76-b39d-d5a682179553",
        "colab": {
          "base_uri": "https://localhost:8080/"
        }
      },
      "execution_count": 1,
      "outputs": [
        {
          "output_type": "stream",
          "name": "stdout",
          "text": [
            "Mounted at /content/drive\n"
          ]
        }
      ]
    },
    {
      "cell_type": "code",
      "source": [
        "data = [1,2,3,4,5,6]"
      ],
      "metadata": {
        "id": "2H1BnrvNzd6W"
      },
      "execution_count": 11,
      "outputs": []
    },
    {
      "cell_type": "code",
      "source": [
        "class Node:\n",
        "  def __init__(self,data):\n",
        "    self.data = data\n",
        "    self.next = None\n",
        "\n",
        "\n",
        "class LinkedList:\n",
        "  def __init__(self):\n",
        "    self.head=None\n",
        "\n",
        "  def append(self,data):\n",
        "    new_node = Node(data)\n",
        "    if not self.head:\n",
        "      self.head = new_node\n",
        "    else:\n",
        "      current = self.head\n",
        "      while current.next:\n",
        "        current = current.next\n",
        "      current.next = new_node\n",
        "\n",
        "  def display(self):\n",
        "    current = self.head\n",
        "    while current:\n",
        "      print(current.data,end=\"->\")\n",
        "      current = current.next\n",
        "    print(\"None\")\n",
        "\n",
        "my_linked_list = LinkedList()\n",
        "for i in range(10):\n",
        "  # new_node = Node()\n",
        "  # new_node.data = i\n",
        "  my_linked_list.append(i)\n",
        "\n",
        "my_linked_list.display()"
      ],
      "metadata": {
        "id": "9ga5K3J4zeDK",
        "outputId": "36de88f0-8691-474b-fe16-29ebad8f0290",
        "colab": {
          "base_uri": "https://localhost:8080/"
        }
      },
      "execution_count": 16,
      "outputs": [
        {
          "output_type": "stream",
          "name": "stdout",
          "text": [
            "0->1->2->3->4->5->6->7->8->9->None\n"
          ]
        }
      ]
    },
    {
      "cell_type": "code",
      "source": [
        "class Node:\n",
        "  def __init__(self,data):\n",
        "    self.data = data\n",
        "    self.next = None\n",
        "\n",
        "\n",
        "class LinkedList:\n",
        "  def __init__(self):\n",
        "    self.head=None\n",
        "\n",
        "  def append(self,data):\n",
        "    new_node = Node(data)\n",
        "    if not self.head:\n",
        "      self.head = new_node\n",
        "    else:\n",
        "      current = self.head\n",
        "      while current.next:\n",
        "        current = current.next\n",
        "      current.next = new_node\n",
        "\n",
        "  def display(self):\n",
        "    current = self.head\n",
        "    while current:\n",
        "      print(current.data,end=\"->\")\n",
        "      current = current.next\n",
        "    print(\"None\")\n",
        "\n",
        "class Stack(LinkedList):\n",
        "  def push(self,data):\n",
        "    self.append(data)\n",
        "\n",
        "  def pop(self):\n",
        "    if not self.head:\n",
        "      print(\"Stack is empty\")\n",
        "      return None\n",
        "\n",
        "    elif not self.head.next:\n",
        "      popped_data = self.head.data\n",
        "      self.head = None\n",
        "      return popped_data\n",
        "\n",
        "    else:\n",
        "      current=self.head\n",
        "      while current.next.next:\n",
        "        current = current.next\n",
        "      popped_data = current.next.data\n",
        "      current.next = None\n",
        "      return popped_data\n",
        "\n",
        "\n",
        "\n",
        "my_stack = Stack()\n",
        "my_stack.push(1)\n",
        "my_stack.push(2)\n",
        "my_stack.push(3)\n",
        "\n",
        "my_stack.display()\n",
        "popped_item = my_stack.pop()\n",
        "print(\"popped:\",popped_item)\n",
        "my_stack.display()"
      ],
      "metadata": {
        "id": "xyoQ8cudzeGK",
        "outputId": "f93fb6ef-8ef2-4a69-9267-a74cfec42682",
        "colab": {
          "base_uri": "https://localhost:8080/"
        }
      },
      "execution_count": 18,
      "outputs": [
        {
          "output_type": "stream",
          "name": "stdout",
          "text": [
            "1->2->3->None\n",
            "popped: 3\n",
            "1->2->None\n"
          ]
        }
      ]
    },
    {
      "cell_type": "code",
      "source": [
        "class Node:\n",
        "  def __init__(self,data):\n",
        "    self.data = data\n",
        "    self.next = None\n",
        "\n",
        "\n",
        "class LinkedList:\n",
        "  def __init__(self):\n",
        "    self.head=None\n",
        "\n",
        "  def append(self,data):\n",
        "    new_node = Node(data)\n",
        "    if not self.head:\n",
        "      self.head = new_node\n",
        "    else:\n",
        "      current = self.head\n",
        "      while current.next:\n",
        "        current = current.next\n",
        "      current.next = new_node\n",
        "\n",
        "  def display(self):\n",
        "    current = self.head\n",
        "    while current:\n",
        "      print(current.data,end=\"->\")\n",
        "      current = current.next\n",
        "    print(\"None\")\n",
        "\n",
        "class Stack(LinkedList):\n",
        "  def push(self,data):\n",
        "    self.append(data)\n",
        "\n",
        "  def pop(self):\n",
        "    if not self.head:\n",
        "      print(\"Stack is empty\")\n",
        "      return None\n",
        "\n",
        "    elif not self.head.next:\n",
        "      popped_data = self.head.data\n",
        "      self.head = None\n",
        "      return popped_data\n",
        "\n",
        "    else:\n",
        "      current=self.head\n",
        "      while current.next.next:\n",
        "        current = current.next\n",
        "      popped_data = current.next.data\n",
        "      current.next = None\n",
        "      return popped_data\n",
        "\n",
        "\n",
        "\n",
        "my_stack = Stack()\n",
        "my_stack.push(1)\n",
        "my_stack.push(2)\n",
        "my_stack.push(3)\n",
        "\n",
        "my_stack.display()\n",
        "for _ in range(4):\n",
        "  popped_item = my_stack.pop()\n",
        "  print(\"popped:\",popped_item)\n",
        "my_stack.display()"
      ],
      "metadata": {
        "id": "K0Tze1ELzeIS",
        "outputId": "f18362cd-6658-4e7d-c61e-54af3948b465",
        "colab": {
          "base_uri": "https://localhost:8080/"
        }
      },
      "execution_count": 19,
      "outputs": [
        {
          "output_type": "stream",
          "name": "stdout",
          "text": [
            "1->2->3->None\n",
            "popped: 3\n",
            "popped: 2\n",
            "popped: 1\n",
            "Stack is empty\n",
            "popped: None\n",
            "None\n"
          ]
        }
      ]
    },
    {
      "cell_type": "code",
      "source": [],
      "metadata": {
        "id": "6xF0p1VDzeLv"
      },
      "execution_count": null,
      "outputs": []
    }
  ],
  "metadata": {
    "colab": {
      "name": "Welcome To Colaboratory",
      "provenance": []
    },
    "kernelspec": {
      "display_name": "Python 3",
      "name": "python3"
    }
  },
  "nbformat": 4,
  "nbformat_minor": 0
}